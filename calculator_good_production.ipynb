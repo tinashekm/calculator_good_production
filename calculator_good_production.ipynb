{
  "nbformat": 4,
  "nbformat_minor": 0,
  "metadata": {
    "colab": {
      "name": "calculator_good_production.ipynb",
      "provenance": [],
      "include_colab_link": true
    },
    "kernelspec": {
      "name": "python3",
      "display_name": "Python 3"
    },
    "language_info": {
      "name": "python"
    }
  },
  "cells": [
    {
      "cell_type": "markdown",
      "metadata": {
        "id": "view-in-github",
        "colab_type": "text"
      },
      "source": [
        "<a href=\"https://colab.research.google.com/github/tinashekm/calculator_good_production/blob/main/calculator_good_production.ipynb\" target=\"_parent\"><img src=\"https://colab.research.google.com/assets/colab-badge.svg\" alt=\"Open In Colab\"/></a>"
      ]
    },
    {
      "cell_type": "markdown",
      "source": [
        "# Simple Calculator\n",
        "\n",
        "This notebook prompts the user to select a mathematical operation and input two numbers. The program will then operate on the two numbers and output the result. The user will be able to continue performing operations on numbers or exit the program. The arithmetic operations include: \n",
        "* addition, \n",
        "* subtraction, \n",
        "* multiplication, and \n",
        "* division. "
      ],
      "metadata": {
        "id": "S9VStu5RRdm3"
      }
    },
    {
      "cell_type": "markdown",
      "source": [
        "### Requirements\n"
      ],
      "metadata": {
        "id": "cqLv4nTZhYcx"
      }
    },
    {
      "cell_type": "code",
      "source": [
        "!pip -q install install PyInputPlus"
      ],
      "metadata": {
        "id": "KzPNXCcMhzhj"
      },
      "execution_count": null,
      "outputs": []
    },
    {
      "cell_type": "markdown",
      "source": [
        "# The Program"
      ],
      "metadata": {
        "id": "NYYsLd7Eh5QN"
      }
    },
    {
      "cell_type": "code",
      "source": [
        "''' \n",
        "This program will prompt the user to select a mathematical operation and input \n",
        "two numbers. The program will then perform the operation on the two numbers and\n",
        "output the result to the screen. The user will be able to continue performing \n",
        "operations on numbers or exit the program. The arithmetic operations include:\n",
        "   * addition,\n",
        "   * subtraction,\n",
        "   * multiplication, and\n",
        "   * division.\n",
        "'''\n",
        "import pyinputplus as pyip\n",
        "\n",
        "print(\"Welcome to Simple Calculator\")\n",
        "while True:\n",
        "  # Display the menu and get the users choice\n",
        "  choices = ['+','-','*','/']\n",
        "  prompt = \"What operation you would like to complete? \\n\"\n",
        "  operator = pyip.inputMenu(choices, prompt=prompt)\n",
        "\n",
        "  # Get the numbers from the user\n",
        "  first_number = pyip.inputNum(\"Please enter the first number \")\n",
        "  second_number = pyip.inputNum(\"Please enter the second number \")\n",
        "\n",
        "  # Perform the operation\n",
        "  if operator == '+':\n",
        "    result = first_number + second_number\n",
        "    template = '{} + {} = {}'\n",
        "  elif operator == '-':\n",
        "    result = first_number - second_number\n",
        "    template = '{} - {} = {}'\n",
        "  elif operator == '*':\n",
        "    result = first_number * second_number\n",
        "    template = '{} * {} = {}'\n",
        "  elif operator == '/':\n",
        "    result = first_number / second_number\n",
        "    template = '{} / {} = {}'\n",
        "\n",
        "  print(template.format(first_number, second_number, result))\n",
        "  answer = pyip.inputYesNo(prompt=\"Do you want to continue? \")\n",
        "  if answer == 'no':\n",
        "    print(\"Thank you for using Simple Calculator\")\n",
        "    break"
      ],
      "metadata": {
        "id": "QMvGfVXgW6kx"
      },
      "execution_count": null,
      "outputs": []
    },
    {
      "cell_type": "code",
      "source": [
        ""
      ],
      "metadata": {
        "id": "jLBU-8TliDCW"
      },
      "execution_count": null,
      "outputs": []
    }
  ]
}